{
 "cells": [
  {
   "cell_type": "code",
   "execution_count": 7,
   "metadata": {},
   "outputs": [],
   "source": [
    "import numpy as np\n",
    "import pandas as pd"
   ]
  },
  {
   "cell_type": "code",
   "execution_count": 12,
   "metadata": {},
   "outputs": [],
   "source": [
    "df = pd.read_csv('output/init_beta_lambda/output_1/local_param.csv', index_col = 0)"
   ]
  },
  {
   "cell_type": "code",
   "execution_count": 20,
   "metadata": {},
   "outputs": [],
   "source": [
    "sigma_1 = df.loc[abs(df['beta_1']) > abs(df['beta_2']), 'sigma_1']\n",
    "sigma_1 = sigma_1.append(df.loc[abs(df['beta_1']) < abs(df['beta_2']), 'sigma_2'])"
   ]
  },
  {
   "cell_type": "code",
   "execution_count": 25,
   "metadata": {},
   "outputs": [],
   "source": [
    "sigma_2 = df.loc[abs(df['beta_1']) < abs(df['beta_2']), 'sigma_1']\n",
    "sigma_2 = sigma_2.append(df.loc[abs(df['beta_1']) > abs(df['beta_2']), 'sigma_2'])"
   ]
  },
  {
   "cell_type": "code",
   "execution_count": 29,
   "metadata": {},
   "outputs": [
    {
     "data": {
      "text/plain": [
       "count    699.000000\n",
       "mean       0.467611\n",
       "std        0.198330\n",
       "min        0.059257\n",
       "25%        0.343098\n",
       "50%        0.440181\n",
       "75%        0.575821\n",
       "max        1.364050\n",
       "dtype: float64"
      ]
     },
     "execution_count": 29,
     "metadata": {},
     "output_type": "execute_result"
    }
   ],
   "source": [
    "sigma_1.describe()"
   ]
  },
  {
   "cell_type": "code",
   "execution_count": 30,
   "metadata": {},
   "outputs": [
    {
     "data": {
      "text/plain": [
       "count    699.000000\n",
       "mean       0.143564\n",
       "std        0.111154\n",
       "min        0.045666\n",
       "25%        0.082203\n",
       "50%        0.108262\n",
       "75%        0.159830\n",
       "max        1.303846\n",
       "dtype: float64"
      ]
     },
     "execution_count": 30,
     "metadata": {},
     "output_type": "execute_result"
    }
   ],
   "source": []
  }
 ],
 "metadata": {
  "kernelspec": {
   "display_name": "Python 3",
   "language": "python",
   "name": "python3"
  },
  "language_info": {
   "codemirror_mode": {
    "name": "ipython",
    "version": 3
   },
   "file_extension": ".py",
   "mimetype": "text/x-python",
   "name": "python",
   "nbconvert_exporter": "python",
   "pygments_lexer": "ipython3",
   "version": "3.6.7"
  }
 },
 "nbformat": 4,
 "nbformat_minor": 2
}
